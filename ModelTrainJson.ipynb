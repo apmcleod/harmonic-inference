{
 "cells": [
  {
   "cell_type": "code",
   "execution_count": 4,
   "metadata": {},
   "outputs": [],
   "source": [
    "import json\n",
    "import itertools\n",
    "import os"
   ]
  },
  {
   "cell_type": "code",
   "execution_count": 5,
   "metadata": {},
   "outputs": [],
   "source": [
    "model = \"ctm\"\n",
    "\n",
    "params = {\n",
    "    \"embed_dim\": [128, 256],\n",
    "    \"hidden_dim\": [128, 256],\n",
    "    \"lstm_hidden_dim\": [128, 256],\n",
    "    \"lstm_layers\": [1, 2, 3, 4, 5],\n",
    "    \"input_mask\": [\n",
    "        [],\n",
    "    ],\n",
    "}\n",
    "\n",
    "os.makedirs(os.path.join(\"model_jsons\", model), exist_ok=True)\n",
    "\n",
    "for i, param_tuple in enumerate(itertools.product(*params.values())):\n",
    "    this_param = {key: value for key, value in zip(params.keys(), param_tuple)}\n",
    "\n",
    "    with open(os.path.join(\"model_jsons\", model, f\"{model}-{i}.json\"), \"w\") as fp:\n",
    "        json.dump(this_param, fp, indent=4)"
   ]
  },
  {
   "cell_type": "code",
   "execution_count": 6,
   "metadata": {},
   "outputs": [],
   "source": [
    "model = \"ccm\"\n",
    "\n",
    "params = {\n",
    "    \"embed_dim\": [128, 256],\n",
    "    \"hidden_dim\": [128, 256],\n",
    "    \"lstm_hidden_dim\": [128, 256],\n",
    "    \"lstm_layers\": [1, 2, 3, 4, 5],\n",
    "    \"input_mask\": [\n",
    "        [],\n",
    "    ],\n",
    "}\n",
    "\n",
    "os.makedirs(os.path.join(\"model_jsons\", model), exist_ok=True)\n",
    "\n",
    "for i, param_tuple in enumerate(itertools.product(*params.values())):\n",
    "    this_param = {key: value for key, value in zip(params.keys(), param_tuple)}\n",
    "\n",
    "    with open(os.path.join(\"model_jsons\", model, f\"{model}-{i}.json\"), \"w\") as fp:\n",
    "        json.dump(this_param, fp, indent=4)"
   ]
  },
  {
   "cell_type": "code",
   "execution_count": 7,
   "metadata": {},
   "outputs": [],
   "source": [
    "model = \"csm\"\n",
    "\n",
    "params = {\n",
    "    \"embed_dim\": [128, 256],\n",
    "    \"hidden_dim\": [128, 256],\n",
    "    \"lstm_hidden_dim\": [128, 256],\n",
    "    \"use_output_inversions\": [False],\n",
    "    \"output_reduction\": [\n",
    "        {\n",
    "            \"ChordType.MAJOR\": \"ChordType.MAJOR\",\n",
    "            \"ChordType.MINOR\": \"ChordType.MINOR\",\n",
    "            \"ChordType.DIMINISHED\": \"ChordType.DIMINISHED\",\n",
    "            \"ChordType.AUGMENTED\": \"ChordType.AUGMENTED\",\n",
    "            \"ChordType.MAJ_MAJ7\": \"ChordType.MAJOR\",\n",
    "            \"ChordType.MAJ_MIN7\": \"ChordType.MAJOR\",\n",
    "            \"ChordType.MIN_MAJ7\": \"ChordType.MINOR\",\n",
    "            \"ChordType.MIN_MIN7\": \"ChordType.MINOR\",\n",
    "            \"ChordType.DIM7\": \"ChordType.DIMINISHED\",\n",
    "            \"ChordType.HALF_DIM7\": \"ChordType.DIMINISHED\",\n",
    "            \"ChordType.AUG_MIN7\": \"ChordType.AUGMENTED\",\n",
    "            \"ChordType.AUG_MAJ7\": \"ChordType.AUGMENTED\"\n",
    "        }\n",
    "    ],\n",
    "    \"lstm_layers\": [1, 2, 3, 4, 5],\n",
    "    \"input_mask\": [\n",
    "        [],\n",
    "    ],\n",
    "}\n",
    "\n",
    "os.makedirs(os.path.join(\"model_jsons\", model), exist_ok=True)\n",
    "\n",
    "for i, param_tuple in enumerate(itertools.product(*params.values())):\n",
    "    this_param = {key: value for key, value in zip(params.keys(), param_tuple)}\n",
    "\n",
    "    with open(os.path.join(\"model_jsons\", model, f\"{model}-{i}.json\"), \"w\") as fp:\n",
    "        json.dump(this_param, fp, indent=4)"
   ]
  },
  {
   "cell_type": "code",
   "execution_count": 8,
   "metadata": {},
   "outputs": [],
   "source": [
    "model = \"ksm\"\n",
    "\n",
    "params = {\n",
    "    \"embed_dim\": [128, 256],\n",
    "    \"hidden_dim\": [128, 256],\n",
    "    \"lstm_hidden_dim\": [128, 256],\n",
    "    \"lstm_layers\": [1, 2, 3, 4, 5],\n",
    "    \"input_mask\": [\n",
    "        [],\n",
    "    ],\n",
    "}\n",
    "\n",
    "os.makedirs(os.path.join(\"model_jsons\", model), exist_ok=True)\n",
    "\n",
    "for i, param_tuple in enumerate(itertools.product(*params.values())):\n",
    "    this_param = {key: value for key, value in zip(params.keys(), param_tuple)}\n",
    "\n",
    "    with open(os.path.join(\"model_jsons\", model, f\"{model}-{i}.json\"), \"w\") as fp:\n",
    "        json.dump(this_param, fp, indent=4)"
   ]
  },
  {
   "cell_type": "code",
   "execution_count": 9,
   "metadata": {},
   "outputs": [],
   "source": [
    "model = \"ktm\"\n",
    "\n",
    "params = {\n",
    "    \"embed_dim\": [128, 256],\n",
    "    \"hidden_dim\": [128, 256],\n",
    "    \"lstm_hidden_dim\": [128, 256],\n",
    "    \"lstm_layers\": [1, 2, 3, 4, 5],\n",
    "    \"input_mask\": [\n",
    "        [],\n",
    "    ],\n",
    "}\n",
    "\n",
    "os.makedirs(os.path.join(\"model_jsons\", model), exist_ok=True)\n",
    "\n",
    "for i, param_tuple in enumerate(itertools.product(*params.values())):\n",
    "    this_param = {key: value for key, value in zip(params.keys(), param_tuple)}\n",
    "\n",
    "    with open(os.path.join(\"model_jsons\", model, f\"{model}-{i}.json\"), \"w\") as fp:\n",
    "        json.dump(this_param, fp, indent=4)"
   ]
  }
 ],
 "metadata": {
  "interpreter": {
   "hash": "ff434d933de17a983dcdcea9c2acfb61be3ec6adbf2e7b32a2f4ca8c018973b7"
  },
  "kernelspec": {
   "display_name": "Python 3.7.9 64-bit ('harmony': conda)",
   "language": "python",
   "name": "python3"
  },
  "language_info": {
   "codemirror_mode": {
    "name": "ipython",
    "version": 3
   },
   "file_extension": ".py",
   "mimetype": "text/x-python",
   "name": "python",
   "nbconvert_exporter": "python",
   "pygments_lexer": "ipython3",
   "version": "3.9.5"
  },
  "orig_nbformat": 2
 },
 "nbformat": 4,
 "nbformat_minor": 2
}
