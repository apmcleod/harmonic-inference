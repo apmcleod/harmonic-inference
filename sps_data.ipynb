{
 "metadata": {
  "language_info": {
   "codemirror_mode": {
    "name": "ipython",
    "version": 3
   },
   "file_extension": ".py",
   "mimetype": "text/x-python",
   "name": "python",
   "nbconvert_exporter": "python",
   "pygments_lexer": "ipython3",
   "version": "3.7.9-final"
  },
  "orig_nbformat": 2,
  "kernelspec": {
   "name": "python3",
   "display_name": "Python 3",
   "language": "python"
  }
 },
 "nbformat": 4,
 "nbformat_minor": 2,
 "cells": [
  {
   "cell_type": "code",
   "execution_count": 1,
   "metadata": {},
   "outputs": [],
   "source": [
    "from glob import glob\n",
    "\n",
    "import pandas as pd\n",
    "from tqdm import tqdm\n",
    "\n",
    "import harmonic_inference.utils.harmonic_utils as hu\n",
    "import harmonic_inference.utils.eval_utils as eu\n",
    "from harmonic_inference.data.data_types import PitchType, ChordType, NO_REDUCTION, TRIAD_REDUCTION"
   ]
  },
  {
   "cell_type": "code",
   "execution_count": 2,
   "metadata": {},
   "outputs": [
    {
     "output_type": "stream",
     "name": "stderr",
     "text": [
      "100%|██████████| 310/310 [09:50<00:00,  1.90s/it]\n"
     ]
    }
   ],
   "source": [
    "for df_path in tqdm(glob(\"output_sps*/**/*_results.tsv\", recursive=True)):\n",
    "    results_df = pd.read_csv(df_path, sep=\"\\t\", index_col=0)\n",
    "    results_df.loc[:, [\"gt_chord_root\", \"gt_chord_type\", \"gt_chord_inv\", \"est_chord_root\", \"est_chord_type\", \"est_chord_inv\", \"root_correct\", \"triad_correct\", \"7th_correct\", \"inv_correct\", \"full_correct\"]] = 0\n",
    "\n",
    "    for row_id, row in results_df.iterrows():\n",
    "        for prefix in [\"gt\", \"est\"]:\n",
    "            root_string, inv_string = row[f\"{prefix}_chord\"].split(\", \")\n",
    "            root_string, chord_type_string = root_string.split(\":\")\n",
    "\n",
    "            root = hu.get_pitch_from_string(root_string, PitchType.MIDI)\n",
    "            chord_type = hu.get_chord_type_from_string(chord_type_string)\n",
    "            inv = int(inv_string[-1])\n",
    "            \n",
    "            results_df.loc[row_id, [f\"{prefix}_chord_root\", f\"{prefix}_chord_type\", f\"{prefix}_chord_inv\"]] = [root, chord_type, inv]\n",
    "\n",
    "        results_df.loc[row_id, \"root_correct\"] = 0 == eu.get_chord_distance(\n",
    "            results_df.loc[row_id, \"gt_chord_root\"], ChordType.MAJOR, 0,\n",
    "            results_df.loc[row_id, \"est_chord_root\"], ChordType.MAJOR, 0,\n",
    "        )\n",
    "        results_df.loc[row_id, \"triad_correct\"] = 0 == eu.get_chord_distance(\n",
    "            results_df.loc[row_id, \"gt_chord_root\"], results_df.loc[row_id, \"gt_chord_type\"], 0,\n",
    "            results_df.loc[row_id, \"est_chord_root\"], results_df.loc[row_id, \"est_chord_type\"], 0,\n",
    "            reduction=TRIAD_REDUCTION,\n",
    "        )\n",
    "        results_df.loc[row_id, \"7th_correct\"] = 0 == eu.get_chord_distance(\n",
    "            results_df.loc[row_id, \"gt_chord_root\"], results_df.loc[row_id, \"gt_chord_type\"], 0,\n",
    "            results_df.loc[row_id, \"est_chord_root\"], results_df.loc[row_id, \"est_chord_type\"], 0,\n",
    "        )\n",
    "        results_df.loc[row_id, \"inv_correct\"] = 0 == eu.get_chord_distance(\n",
    "            results_df.loc[row_id, \"gt_chord_root\"], ChordType.MAJOR, results_df.loc[row_id, \"gt_chord_inv\"],\n",
    "            results_df.loc[row_id, \"est_chord_root\"], ChordType.MAJOR, results_df.loc[row_id, \"est_chord_inv\"],\n",
    "        )\n",
    "        results_df.loc[row_id, \"full_correct\"] = 0 == eu.get_chord_distance(\n",
    "            results_df.loc[row_id, \"gt_chord_root\"], results_df.loc[row_id, \"gt_chord_type\"], results_df.loc[row_id, \"gt_chord_inv\"],\n",
    "            results_df.loc[row_id, \"est_chord_root\"], results_df.loc[row_id, \"est_chord_type\"], results_df.loc[row_id, \"est_chord_inv\"],\n",
    "        )\n",
    "\n",
    "    results_df.to_csv(df_path, sep=\"\\t\")"
   ]
  },
  {
   "cell_type": "code",
   "execution_count": null,
   "metadata": {},
   "outputs": [],
   "source": []
  }
 ]
}